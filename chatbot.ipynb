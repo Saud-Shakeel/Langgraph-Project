{
 "cells": [
  {
   "cell_type": "code",
   "execution_count": 1,
   "id": "25ef22d0",
   "metadata": {},
   "outputs": [],
   "source": [
    "from typing import TypedDict, List, Annotated\n",
    "from langgraph.graph import StateGraph, START, END\n",
    "from langgraph.graph.message import add_messages\n",
    "from langchain.chat_models import init_chat_model\n",
    "from dotenv import load_dotenv\n",
    "from IPython.display import Image, display\n",
    "from langchain_core.tools import tool\n",
    "from langgraph.prebuilt import ToolNode, tools_condition\n",
    "from langgraph.types import interrupt, Command\n",
    "from langgraph.checkpoint.memory import MemorySaver\n",
    "from langsmith import traceable"
   ]
  },
  {
   "cell_type": "code",
   "execution_count": 2,
   "id": "b4e07f7a",
   "metadata": {},
   "outputs": [],
   "source": [
    "load_dotenv(override=True)\n",
    "llm = init_chat_model(model=\"gpt-4o-mini\")\n",
    "memory = MemorySaver()"
   ]
  },
  {
   "cell_type": "code",
   "execution_count": 3,
   "id": "63fb6c71",
   "metadata": {},
   "outputs": [],
   "source": [
    "class State(TypedDict):\n",
    "    messages: Annotated[List, add_messages]"
   ]
  },
  {
   "cell_type": "code",
   "execution_count": null,
   "id": "57092ca4",
   "metadata": {},
   "outputs": [],
   "source": [
    "def chatbot(state: State)->State:\n",
    "    return {\"messages\": [llm.invoke(state[\"messages\"])]}\n",
    "\n",
    "builder = StateGraph(State)\n",
    "builder.add_node(\"chatbot\", chatbot)\n",
    "builder.add_edge(START, \"chatbot\")\n",
    "builder.add_edge(\"chatbot\", END)\n",
    "\n",
    "graph = builder.compile()\n",
    "\n",
    "display(Image(graph.get_graph().draw_mermaid_png()))"
   ]
  },
  {
   "cell_type": "code",
   "execution_count": null,
   "id": "a33e2ca2",
   "metadata": {},
   "outputs": [],
   "source": [
    "message = {\"role\":\"user\", \"content\":\"Who was the first person on the moon? Only name\"}\n",
    "response = graph.invoke({\"messages\": [message]})"
   ]
  },
  {
   "cell_type": "code",
   "execution_count": null,
   "id": "5b6bfb8b",
   "metadata": {},
   "outputs": [],
   "source": [
    "print(response)\n",
    "print(response['messages'][1])"
   ]
  },
  {
   "cell_type": "code",
   "execution_count": null,
   "id": "aec0dd43",
   "metadata": {},
   "outputs": [],
   "source": [
    "state=None\n",
    "while True:\n",
    "    in_message = input(\"\")\n",
    "    if in_message.lower() in [\"exit\", \"quit\"]:\n",
    "        break\n",
    "\n",
    "    if state is None:\n",
    "        state: State = {\n",
    "            \"messages\": [{\"role\":\"user\", \"content\": in_message}]\n",
    "        }\n",
    "    else:\n",
    "        state[\"messages\"].append({\"role\":\"user\", \"content\":in_message})\n",
    "    \n",
    "    state = graph.invoke(state)\n",
    "    print(\"BOT:\", state[\"messages\"][-1].content)"
   ]
  },
  {
   "cell_type": "code",
   "execution_count": null,
   "id": "919beb09",
   "metadata": {},
   "outputs": [],
   "source": [
    "@tool(\"get_stock_price\", description=\"Return a mock stock price for the given COMPANY NAME.\")\n",
    "def get_stock_price(company_name: str)->float:\n",
    "    stock_symbols = {\"Microsoft\": 250.2, \"Apple\": 350.5, \"Google\": 500.0, \"Amazon\": 400.7}\n",
    "\n",
    "    return stock_symbols.get(company_name, 0.0)\n",
    "\n",
    "@tool(\"buy_stock\", description=\"Buy a stock after approving (yes) or decline (no) a stock.\")\n",
    "def buy_stock(symbol: str, quantity: int, total_price: float)->str:\n",
    "    decision = interrupt(f\"Approve buying {symbol} {quantity} stocks for price ${total_price: .2f}?\")\n",
    "\n",
    "    if decision == \"yes\":\n",
    "        return f\"You bought {quantity} shares of {symbol} for a total price of {total_price}\"\n",
    "    else:\n",
    "        return \"Buying declined\"\n",
    "\n",
    "list_of_tools = [get_stock_price, buy_stock]\n",
    "\n",
    "llm_with_tools = llm.bind_tools(tools=list_of_tools)"
   ]
  },
  {
   "cell_type": "code",
   "execution_count": 5,
   "id": "edccff6e",
   "metadata": {},
   "outputs": [
    {
     "data": {
      "image/png": "[encoded data removed]",
      "text/plain": [
       "<IPython.core.display.Image object>"
      ]
     },
     "metadata": {},
     "output_type": "display_data"
    }
   ],
   "source": [
    "def chatbot_with_tool(state: State)->State:\n",
    "    msg = llm_with_tools.invoke(state[\"messages\"])\n",
    "    return {\"messages\": [msg]}\n",
    "\n",
    "builder = StateGraph(State)\n",
    "builder.add_node(\"chatbot_with_tool\", chatbot_with_tool)\n",
    "builder.add_node(\"tools\", ToolNode(list_of_tools))\n",
    "builder.add_edge(START, \"chatbot_with_tool\")\n",
    "builder.add_conditional_edges(\"chatbot_with_tool\", tools_condition)\n",
    "builder.add_edge(\"tools\", \"chatbot_with_tool\")\n",
    "builder.add_edge(\"chatbot_with_tool\", END)\n",
    "\n",
    "graph = builder.compile(checkpointer=memory)\n",
    "\n",
    "display(Image(graph.get_graph().draw_mermaid_png()))\n",
    "\n"
   ]
  },
  {
   "cell_type": "code",
   "execution_count": 6,
   "id": "180f0db2",
   "metadata": {},
   "outputs": [],
   "source": [
    "config1 = {\n",
    "        \"configurable\": {\"thread_id\": \"buy_thread\"},\n",
    "        \"run_name\": \"chatbot_graph\",\n",
    "        \"tags\": [\"langgraph\", \"tool-call\"]\n",
    "    }"
   ]
  },
  {
   "cell_type": "code",
   "execution_count": null,
   "id": "df44ddcc",
   "metadata": {},
   "outputs": [],
   "source": [
    "message = {\"role\":\"user\", \"content\":\"What is the stock price of Apple? Give me the total price of 5 stocks.\"}\n",
    "response= graph.invoke({\"messages\": [message]}, config= config1)\n",
    "response['messages']"
   ]
  },
  {
   "cell_type": "code",
   "execution_count": null,
   "id": "1900ee1d",
   "metadata": {},
   "outputs": [],
   "source": [
    "message = {\"role\":\"user\", \"content\":\"What is the stock price of Google? Add it to the previous total.\"}\n",
    "response = graph.invoke({\"messages\": [message]}, config=config1)\n",
    "response['messages']"
   ]
  },
  {
   "cell_type": "code",
   "execution_count": 11,
   "id": "ad9c06e1",
   "metadata": {},
   "outputs": [],
   "source": [
    "@traceable\n",
    "def get_response_from_llm(query: str):\n",
    "    message = {\"role\": \"user\", \"content\": query}\n",
    "    state = graph.invoke({\"messages\": [message]}, config=config1)\n",
    "\n",
    "    if \"__interrupt__\" in state:\n",
    "        decision = input(\"Approve (yes/no): \").strip().lower()\n",
    "        state = graph.invoke(Command(resume=decision), config=config1)\n",
    "\n",
    "    return state['messages'][-1].content"
   ]
  },
  {
   "cell_type": "code",
   "execution_count": 9,
   "id": "2b0c6867",
   "metadata": {},
   "outputs": [
    {
     "data": {
      "text/plain": [
       "[HumanMessage(content='Buy 15 stocks of Apple at current price.', additional_kwargs={}, response_metadata={}, id='35bf20c1-db63-433c-8eff-2ea1f0e86622'),\n",
       " AIMessage(content='', additional_kwargs={'tool_calls': [{'id': 'call_AHBTYiymqMCuDNSEG38r5Art', 'function': {'arguments': '{\"company_name\":\"Apple\"}', 'name': 'get_stock_price'}, 'type': 'function'}], 'refusal': None}, response_metadata={'token_usage': {'completion_tokens': 16, 'prompt_tokens': 99, 'total_tokens': 115, 'completion_tokens_details': {'accepted_prediction_tokens': 0, 'audio_tokens': 0, 'reasoning_tokens': 0, 'rejected_prediction_tokens': 0}, 'prompt_tokens_details': {'audio_tokens': 0, 'cached_tokens': 0}}, 'model_name': 'gpt-4o-mini-2024-07-18', 'system_fingerprint': 'fp_34a54ae93c', 'id': 'chatcmpl-Boy9kcSyVlBvIhf1UXVWpkjpK48Fj', 'service_tier': 'default', 'finish_reason': 'tool_calls', 'logprobs': None}, id='run--e6766910-a61e-4309-9afd-906516e4c19c-0', tool_calls=[{'name': 'get_stock_price', 'args': {'company_name': 'Apple'}, 'id': 'call_AHBTYiymqMCuDNSEG38r5Art', 'type': 'tool_call'}], usage_metadata={'input_tokens': 99, 'output_tokens': 16, 'total_tokens': 115, 'input_token_details': {'audio': 0, 'cache_read': 0}, 'output_token_details': {'audio': 0, 'reasoning': 0}}),\n",
       " ToolMessage(content='350.5', name='get_stock_price', id='18cdcd67-409a-43b3-b318-c9ea4f7106c3', tool_call_id='call_AHBTYiymqMCuDNSEG38r5Art'),\n",
       " AIMessage(content='', additional_kwargs={'tool_calls': [{'id': 'call_2lEnlc7OxStInRQUzQ2AQQcI', 'function': {'arguments': '{\"symbol\":\"AAPL\",\"quantity\":15,\"total_price\":5257.5}', 'name': 'buy_stock'}, 'type': 'function'}], 'refusal': None}, response_metadata={'token_usage': {'completion_tokens': 27, 'prompt_tokens': 127, 'total_tokens': 154, 'completion_tokens_details': {'accepted_prediction_tokens': 0, 'audio_tokens': 0, 'reasoning_tokens': 0, 'rejected_prediction_tokens': 0}, 'prompt_tokens_details': {'audio_tokens': 0, 'cached_tokens': 0}}, 'model_name': 'gpt-4o-mini-2024-07-18', 'system_fingerprint': 'fp_34a54ae93c', 'id': 'chatcmpl-Boy9lzkJw0EDbmSbr4PIMO5RlAxwp', 'service_tier': 'default', 'finish_reason': 'tool_calls', 'logprobs': None}, id='run--e2327fbb-c2e5-4788-a575-99c47a79363a-0', tool_calls=[{'name': 'buy_stock', 'args': {'symbol': 'AAPL', 'quantity': 15, 'total_price': 5257.5}, 'id': 'call_2lEnlc7OxStInRQUzQ2AQQcI', 'type': 'tool_call'}], usage_metadata={'input_tokens': 127, 'output_tokens': 27, 'total_tokens': 154, 'input_token_details': {'audio': 0, 'cache_read': 0}, 'output_token_details': {'audio': 0, 'reasoning': 0}}),\n",
       " ToolMessage(content='You bought 15 shares of AAPL for a total price of 5257.5', name='buy_stock', id='5ee8260b-21d3-44df-b388-dc654177874d', tool_call_id='call_2lEnlc7OxStInRQUzQ2AQQcI'),\n",
       " AIMessage(content='You successfully bought 15 shares of Apple (AAPL) for a total price of $5,257.50.', additional_kwargs={'refusal': None}, response_metadata={'token_usage': {'completion_tokens': 25, 'prompt_tokens': 180, 'total_tokens': 205, 'completion_tokens_details': {'accepted_prediction_tokens': 0, 'audio_tokens': 0, 'reasoning_tokens': 0, 'rejected_prediction_tokens': 0}, 'prompt_tokens_details': {'audio_tokens': 0, 'cached_tokens': 0}}, 'model_name': 'gpt-4o-mini-2024-07-18', 'system_fingerprint': 'fp_34a54ae93c', 'id': 'chatcmpl-Boy9pDbTqtF8r0gLC5qEkB7HHWIBi', 'service_tier': 'default', 'finish_reason': 'stop', 'logprobs': None}, id='run--248ebe5d-40d5-4557-9e48-f67cd4773dd2-0', usage_metadata={'input_tokens': 180, 'output_tokens': 25, 'total_tokens': 205, 'input_token_details': {'audio': 0, 'cache_read': 0}, 'output_token_details': {'audio': 0, 'reasoning': 0}}),\n",
       " HumanMessage(content='What is stock price of Microsoft? Remove it from the previous total.', additional_kwargs={}, response_metadata={}, id='c9aa5dd1-d367-4325-8fae-a91f58e676d9'),\n",
       " AIMessage(content='', additional_kwargs={'tool_calls': [{'id': 'call_DbchD9QIFQ49OlXWJf32psJj', 'function': {'arguments': '{\"company_name\":\"Microsoft\"}', 'name': 'get_stock_price'}, 'type': 'function'}], 'refusal': None}, response_metadata={'token_usage': {'completion_tokens': 16, 'prompt_tokens': 226, 'total_tokens': 242, 'completion_tokens_details': {'accepted_prediction_tokens': 0, 'audio_tokens': 0, 'reasoning_tokens': 0, 'rejected_prediction_tokens': 0}, 'prompt_tokens_details': {'audio_tokens': 0, 'cached_tokens': 0}}, 'model_name': 'gpt-4o-mini-2024-07-18', 'system_fingerprint': 'fp_34a54ae93c', 'id': 'chatcmpl-BoyAdhWykawkOT2mPfwZHATcRW84v', 'service_tier': 'default', 'finish_reason': 'tool_calls', 'logprobs': None}, id='run--bdaccccb-13e0-43a9-83cb-4d9883f74e20-0', tool_calls=[{'name': 'get_stock_price', 'args': {'company_name': 'Microsoft'}, 'id': 'call_DbchD9QIFQ49OlXWJf32psJj', 'type': 'tool_call'}], usage_metadata={'input_tokens': 226, 'output_tokens': 16, 'total_tokens': 242, 'input_token_details': {'audio': 0, 'cache_read': 0}, 'output_token_details': {'audio': 0, 'reasoning': 0}}),\n",
       " ToolMessage(content='250.2', name='get_stock_price', id='a3c4a622-11f8-4479-819c-c0adfbf22029', tool_call_id='call_DbchD9QIFQ49OlXWJf32psJj'),\n",
       " AIMessage(content='The current stock price of Microsoft is $250.20. \\n\\nSubtracting this from your previous total of $5,257.50, the new total will be:\\n\\n\\\\[\\n\\\\$5,257.50 - \\\\$250.20 = \\\\$5,007.30\\n\\\\]\\n\\nYour updated total is $5,007.30.', additional_kwargs={'refusal': None}, response_metadata={'token_usage': {'completion_tokens': 69, 'prompt_tokens': 254, 'total_tokens': 323, 'completion_tokens_details': {'accepted_prediction_tokens': 0, 'audio_tokens': 0, 'reasoning_tokens': 0, 'rejected_prediction_tokens': 0}, 'prompt_tokens_details': {'audio_tokens': 0, 'cached_tokens': 0}}, 'model_name': 'gpt-4o-mini-2024-07-18', 'system_fingerprint': 'fp_34a54ae93c', 'id': 'chatcmpl-BoyAeebWignXS8Hrhzgsya0XTDqnR', 'service_tier': 'default', 'finish_reason': 'stop', 'logprobs': None}, id='run--3c675aa5-1fee-4acb-b999-bab8e267ea33-0', usage_metadata={'input_tokens': 254, 'output_tokens': 69, 'total_tokens': 323, 'input_token_details': {'audio': 0, 'cache_read': 0}, 'output_token_details': {'audio': 0, 'reasoning': 0}})]"
      ]
     },
     "execution_count": 9,
     "metadata": {},
     "output_type": "execute_result"
    }
   ],
   "source": [
    "get_response_from_llm(\"What is stock price of Microsoft? Remove it from the previous total.\")"
   ]
  },
  {
   "cell_type": "code",
   "execution_count": 12,
   "id": "11189e37",
   "metadata": {},
   "outputs": [
    {
     "data": {
      "text/plain": [
       "'You successfully bought 15 shares of Apple (AAPL) for a total price of $5,257.50.'"
      ]
     },
     "execution_count": 12,
     "metadata": {},
     "output_type": "execute_result"
    }
   ],
   "source": [
    "get_response_from_llm(\"Buy 15 stocks of Apple at current price.\")"
   ]
  },
  {
   "cell_type": "code",
   "execution_count": null,
   "id": "292a4a62",
   "metadata": {},
   "outputs": [],
   "source": []
  },
  {
   "cell_type": "code",
   "execution_count": null,
   "id": "b6b2c410",
   "metadata": {},
   "outputs": [],
   "source": []
  }
 ],
 "metadata": {
  "kernelspec": {
   "display_name": ".venv",
   "language": "python",
   "name": "python3"
  },
  "language_info": {
   "codemirror_mode": {
    "name": "ipython",
    "version": 3
   },
   "file_extension": ".py",
   "mimetype": "text/x-python",
   "name": "python",
   "nbconvert_exporter": "python",
   "pygments_lexer": "ipython3",
   "version": "3.11.1"
  }
 },
 "nbformat": 4,
 "nbformat_minor": 5
}
